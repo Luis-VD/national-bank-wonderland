{
 "cells": [
  {
   "cell_type": "code",
   "execution_count": 1,
   "metadata": {},
   "outputs": [],
   "source": [
    "#CS5228 project\n",
    "\n",
    "# data manipulation\n",
    "import pandas as pd\n",
    "import numpy as np\n",
    "\n",
    "# visualiation\n",
    "import seaborn as sb\n",
    "import matplotlib.pyplot as plt\n",
    "%matplotlib inline\n",
    "\n",
    "# model training\n",
    "from sklearn.model_selection import train_test_split\n",
    "from sklearn.model_selection import GridSearchCV\n",
    "\n",
    "# classifiers\n",
    "from sklearn.naive_bayes import GaussianNB # naive bayes\n",
    "from sklearn.neighbors import KNeighborsClassifier # KNN\n",
    "from sklearn.svm import SVC # SVM\n",
    "from sklearn.linear_model import LogisticRegression # logistic regression\n",
    "from sklearn.tree import DecisionTreeClassifier # decision Tree\n",
    "from sklearn.neural_network import MLPClassifier\n",
    "from sklearn.discriminant_analysis import QuadraticDiscriminantAnalysis\n",
    "from sklearn.metrics import accuracy_score\n",
    "from sklearn.metrics import f1_score\n",
    "from sklearn.metrics import confusion_matrix\n",
    "from sklearn.feature_selection import RFE # for feature selection of LR\n",
    "from sklearn.ensemble import BaggingClassifier \n",
    "from sklearn.ensemble import AdaBoostClassifier\n",
    "from sklearn.preprocessing import StandardScaler\n",
    "\n",
    "# ignore warnings\n",
    "import warnings\n",
    "warnings.filterwarnings('ignore')\n"
   ]
  },
  {
   "cell_type": "code",
   "execution_count": 3,
   "metadata": {},
   "outputs": [],
   "source": [
    "#load into dataframe\n",
    "fdata = pd.read_csv('financial_data.csv', na_values=['?']) # ? means missing\n",
    "revealed = pd.read_csv('revealed_businesses.csv')\n",
    "tdata = pd.read_csv('testing_data.csv', na_values=['?'])\n",
    "\n"
   ]
  },
  {
   "cell_type": "code",
   "execution_count": null,
   "metadata": {},
   "outputs": [],
   "source": [
    "#clean data\n",
    "fdata = fdata.replace(0, np.nan) # assume 0 values also means missing\n",
    "fdata = fdata.fillna(fdata.median())\n",
    "tdata = tdata.replace(0, np.nan)\n",
    "tdata = tdata.fillna(tdata.median())\n",
    "\n"
   ]
  },
  {
   "cell_type": "code",
   "execution_count": null,
   "metadata": {},
   "outputs": [],
   "source": [
    "#preprocess data\n",
    "fdatan = fdata.copy(deep=True)\n",
    "normald = StandardScaler()\n",
    "fdatan_1 = normald.fit_transform(fdatan.ix[:,fdatan.columns!=\"Var1\"]) # normalize all variables except Var1\n",
    "fdatan = pd.DataFrame(np.column_stack((fdatan[\"Var1\"].values,fdatan_1)),columns = fdatan.columns).set_index(fdatan.index)\n",
    "tdatan = tdata.copy(deep=True)\n",
    "normald = StandardScaler()\n",
    "tdatan_1 = normald.fit_transform(tdatan.ix[:,tdatan.columns!=\"Var1\"]) # normalize all variables except Var1\n",
    "tdatan = pd.DataFrame(np.column_stack((tdatan[\"Var1\"].values,tdatan_1)),columns = tdatan.columns).set_index(tdatan.index)\n",
    "\n"
   ]
  },
  {
   "cell_type": "code",
   "execution_count": null,
   "metadata": {},
   "outputs": [],
   "source": [
    "#merge dataframe\n",
    "fdatan_merged = fdatan.merge(revealed, how=\"outer\")\n",
    "fdatan_train1 = fdatan.merge(revealed) # dataframe, whose bankruptcy status is known (0 = good standing, 1 = bankrupt)\n",
    "\n"
   ]
  },
  {
   "cell_type": "code",
   "execution_count": null,
   "metadata": {},
   "outputs": [],
   "source": [
    "#classifier here\n",
    "x1 = fdatan_train1.drop(columns=['Var1', 'Var66']) # Var 1 is company ID, Var 66 is the status\n",
    "y1 = fdatan_train1['Var66']\n",
    "t1 = tdatan.drop(columns=['Var1'])\n",
    "cID = tdata['Var1'].tolist() # use original values, since nothing is done in cID of tdata\n",
    "clas = AdaBoostClassifier() # select classifier here\n",
    "clas.fit(x1, y1)\n",
    "\n",
    "# write results to predictions.csv\n",
    "f = open('predictions.csv', 'w')\n",
    "f.write('Business_ID,Is_Bankrupted\\n')\n",
    "for a,b in zip(cID, clas.predict(t1)):\n",
    "    f.write(str(a))\n",
    "    f.write(',')\n",
    "    f.write(str(round(b)))\n",
    "    f.write('\\n')\n",
    "f.close()"
   ]
  }
 ],
 "metadata": {
  "kernelspec": {
   "display_name": "Python 3",
   "language": "python",
   "name": "python3"
  },
  "language_info": {
   "codemirror_mode": {
    "name": "ipython",
    "version": 3
   },
   "file_extension": ".py",
   "mimetype": "text/x-python",
   "name": "python",
   "nbconvert_exporter": "python",
   "pygments_lexer": "ipython3",
   "version": "3.7.2"
  }
 },
 "nbformat": 4,
 "nbformat_minor": 2
}
