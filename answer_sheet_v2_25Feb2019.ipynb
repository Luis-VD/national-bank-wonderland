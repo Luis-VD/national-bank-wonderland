{
 "cells": [
  {
   "cell_type": "markdown",
   "metadata": {},
   "source": [
    "# Assignment 2 - Mining Frequent Pattern and Asssociation Rules\n",
    "This answer sheet contains your answer to questions in Section 1~3. Sentences in <span style=\"color:blue\">blue</span> indicates questions to be answered. \n",
    "\n",
    "For open questions, please organize your answer into \"points\" to ease our grading efforts. For example, an answer to \"What is the most popular item? Explain you answer and describe any assumptions you’ve made.\" should look like:\n",
    "\n",
    "> The most popular item ID is 12345. The reason is that:\n",
    "> - reason 1\n",
    "> - reason 2\n",
    "> \n",
    "> I've made the following assumptions:\n",
    "> - assumption 1\n",
    "> - assumption 2\n",
    "\n",
    "If you wish to type math equations in markdown, follow this link: https://jupyter-notebook.readthedocs.io/en/stable/examples/Notebook/Working%20With%20Markdown%20Cells.html#LaTeX-equations\n",
    "\n",
    "Remember to save this Jupyter notebook as __YourNameInIVLE_YourIDInIVLE.ipynb__."
   ]
  },
  {
   "cell_type": "markdown",
   "metadata": {},
   "source": [
    "**Import all libraries and load data here**"
   ]
  },
  {
   "cell_type": "code",
   "execution_count": 1,
   "metadata": {},
   "outputs": [
    {
     "name": "stdout",
     "output_type": "stream",
     "text": [
      "InvoiceNo       object\n",
      "StockCode       object\n",
      "Description     object\n",
      "Quantity         int64\n",
      "InvoiceDate     object\n",
      "UnitPrice      float64\n",
      "CustomerID     float64\n",
      "dtype: object\n"
     ]
    },
    {
     "data": {
      "text/html": [
       "<div>\n",
       "<style scoped>\n",
       "    .dataframe tbody tr th:only-of-type {\n",
       "        vertical-align: middle;\n",
       "    }\n",
       "\n",
       "    .dataframe tbody tr th {\n",
       "        vertical-align: top;\n",
       "    }\n",
       "\n",
       "    .dataframe thead th {\n",
       "        text-align: right;\n",
       "    }\n",
       "</style>\n",
       "<table border=\"1\" class=\"dataframe\">\n",
       "  <thead>\n",
       "    <tr style=\"text-align: right;\">\n",
       "      <th></th>\n",
       "      <th>InvoiceNo</th>\n",
       "      <th>StockCode</th>\n",
       "      <th>Description</th>\n",
       "      <th>Quantity</th>\n",
       "      <th>InvoiceDate</th>\n",
       "      <th>UnitPrice</th>\n",
       "      <th>CustomerID</th>\n",
       "    </tr>\n",
       "  </thead>\n",
       "  <tbody>\n",
       "    <tr>\n",
       "      <th>0</th>\n",
       "      <td>536365</td>\n",
       "      <td>85123A</td>\n",
       "      <td>WHITE HANGING HEART T-LIGHT HOLDER</td>\n",
       "      <td>6</td>\n",
       "      <td>2010-12-01 08:26:00</td>\n",
       "      <td>2.55</td>\n",
       "      <td>17850.0</td>\n",
       "    </tr>\n",
       "    <tr>\n",
       "      <th>1</th>\n",
       "      <td>536365</td>\n",
       "      <td>71053</td>\n",
       "      <td>WHITE METAL LANTERN</td>\n",
       "      <td>6</td>\n",
       "      <td>2010-12-01 08:26:00</td>\n",
       "      <td>3.39</td>\n",
       "      <td>17850.0</td>\n",
       "    </tr>\n",
       "    <tr>\n",
       "      <th>2</th>\n",
       "      <td>536365</td>\n",
       "      <td>84406B</td>\n",
       "      <td>CREAM CUPID HEARTS COAT HANGER</td>\n",
       "      <td>8</td>\n",
       "      <td>2010-12-01 08:26:00</td>\n",
       "      <td>2.75</td>\n",
       "      <td>17850.0</td>\n",
       "    </tr>\n",
       "    <tr>\n",
       "      <th>3</th>\n",
       "      <td>536365</td>\n",
       "      <td>84029G</td>\n",
       "      <td>KNITTED UNION FLAG HOT WATER BOTTLE</td>\n",
       "      <td>6</td>\n",
       "      <td>2010-12-01 08:26:00</td>\n",
       "      <td>3.39</td>\n",
       "      <td>17850.0</td>\n",
       "    </tr>\n",
       "    <tr>\n",
       "      <th>4</th>\n",
       "      <td>536365</td>\n",
       "      <td>84029E</td>\n",
       "      <td>RED WOOLLY HOTTIE WHITE HEART.</td>\n",
       "      <td>6</td>\n",
       "      <td>2010-12-01 08:26:00</td>\n",
       "      <td>3.39</td>\n",
       "      <td>17850.0</td>\n",
       "    </tr>\n",
       "  </tbody>\n",
       "</table>\n",
       "</div>"
      ],
      "text/plain": [
       "  InvoiceNo StockCode                          Description  Quantity  \\\n",
       "0    536365    85123A   WHITE HANGING HEART T-LIGHT HOLDER         6   \n",
       "1    536365     71053                  WHITE METAL LANTERN         6   \n",
       "2    536365    84406B       CREAM CUPID HEARTS COAT HANGER         8   \n",
       "3    536365    84029G  KNITTED UNION FLAG HOT WATER BOTTLE         6   \n",
       "4    536365    84029E       RED WOOLLY HOTTIE WHITE HEART.         6   \n",
       "\n",
       "           InvoiceDate  UnitPrice  CustomerID  \n",
       "0  2010-12-01 08:26:00       2.55     17850.0  \n",
       "1  2010-12-01 08:26:00       3.39     17850.0  \n",
       "2  2010-12-01 08:26:00       2.75     17850.0  \n",
       "3  2010-12-01 08:26:00       3.39     17850.0  \n",
       "4  2010-12-01 08:26:00       3.39     17850.0  "
      ]
     },
     "metadata": {},
     "output_type": "display_data"
    }
   ],
   "source": [
    "# data manipulation\n",
    "import pandas as pd\n",
    "import numpy as np\n",
    "import math\n",
    "import random\n",
    "\n",
    "# visualization\n",
    "import matplotlib.pyplot as plt\n",
    "%matplotlib inline\n",
    "\n",
    "from efficient_apriori import apriori\n",
    "\n",
    "# ignore warnings\n",
    "import warnings\n",
    "warnings.filterwarnings('ignore')\n",
    "\n",
    "sales = pd.read_csv(\"record.csv\") \n",
    "print(sales.dtypes)\n",
    "display(sales.head())"
   ]
  },
  {
   "cell_type": "markdown",
   "metadata": {},
   "source": [
    "## Section 1 - Data Cleaning and Exploration (20 points)"
   ]
  },
  {
   "cell_type": "markdown",
   "metadata": {},
   "source": [
    "<span style=\"color:blue\"> Please provide a description of each of the types of “dirty” records that you can find in the dataset, as well as the corresponding number of such records that are to be removed the dataset. Also, write down your code for removing those records. </span>"
   ]
  },
  {
   "cell_type": "markdown",
   "metadata": {},
   "source": [
    "We make the following assumptions in order to delete any records with \"dirty\" data:\n",
    "\n",
    "- Fields that are blank, NaN or empty strings are considered dirty and rows deleted\n",
    "- We are only interested in sales, no returns or cancellations, therefore Quantity or UnitPrice with negative values are considered dirty and deleted"
   ]
  },
  {
   "cell_type": "code",
   "execution_count": 2,
   "metadata": {
    "scrolled": false
   },
   "outputs": [
    {
     "name": "stdout",
     "output_type": "stream",
     "text": [
      "Number of invalid or empty rows in each column:\n"
     ]
    },
    {
     "data": {
      "text/plain": [
       "InvoiceNo           0\n",
       "StockCode           0\n",
       "Description      1454\n",
       "Quantity            0\n",
       "InvoiceDate         0\n",
       "UnitPrice           0\n",
       "CustomerID     135080\n",
       "dtype: int64"
      ]
     },
     "metadata": {},
     "output_type": "display_data"
    },
    {
     "name": "stdout",
     "output_type": "stream",
     "text": [
      "Number of entries in cleaned set: 397884\n",
      "Earliest date found: 2010-12-01 08:26:00\n",
      "Latest date found: 2011-12-09 12:50:00\n",
      "Number of unique customers: 4338\n",
      "Number of unique Transactions: 18532\n",
      "Number of unique Items: 3665\n",
      "Number of unique Transactions for 17850: 34\n",
      "Customer ID with the most transactions: 12748.0 with a total of 209 transactions\n",
      "Item ID with the most sales: 23843 with a total of 80995 items sold\n"
     ]
    },
    {
     "data": {
      "text/html": [
       "<div>\n",
       "<style scoped>\n",
       "    .dataframe tbody tr th:only-of-type {\n",
       "        vertical-align: middle;\n",
       "    }\n",
       "\n",
       "    .dataframe tbody tr th {\n",
       "        vertical-align: top;\n",
       "    }\n",
       "\n",
       "    .dataframe thead th {\n",
       "        text-align: right;\n",
       "    }\n",
       "</style>\n",
       "<table border=\"1\" class=\"dataframe\">\n",
       "  <thead>\n",
       "    <tr style=\"text-align: right;\">\n",
       "      <th></th>\n",
       "      <th>InvoiceNo</th>\n",
       "      <th>StockCode</th>\n",
       "      <th>Description</th>\n",
       "      <th>Quantity</th>\n",
       "      <th>InvoiceDate</th>\n",
       "      <th>UnitPrice</th>\n",
       "      <th>CustomerID</th>\n",
       "    </tr>\n",
       "  </thead>\n",
       "  <tbody>\n",
       "    <tr>\n",
       "      <th>540421</th>\n",
       "      <td>581483</td>\n",
       "      <td>23843</td>\n",
       "      <td>PAPER CRAFT , LITTLE BIRDIE</td>\n",
       "      <td>80995</td>\n",
       "      <td>2011-12-09 09:15:00</td>\n",
       "      <td>2.08</td>\n",
       "      <td>16446.0</td>\n",
       "    </tr>\n",
       "  </tbody>\n",
       "</table>\n",
       "</div>"
      ],
      "text/plain": [
       "       InvoiceNo StockCode                  Description  Quantity  \\\n",
       "540421    581483     23843  PAPER CRAFT , LITTLE BIRDIE     80995   \n",
       "\n",
       "                InvoiceDate  UnitPrice  CustomerID  \n",
       "540421  2011-12-09 09:15:00       2.08     16446.0  "
      ]
     },
     "metadata": {},
     "output_type": "display_data"
    }
   ],
   "source": [
    "print(\"Number of invalid or empty rows in each column:\")\n",
    "display(sales.isna().sum())\n",
    "sales_clean = sales.dropna()\n",
    "sales_clean = sales_clean[sales_clean['UnitPrice']!=0]\n",
    "sales_clean = sales_clean[sales_clean['Quantity']>0]\n",
    "print(\"Number of entries in cleaned set: {}\".format(len(sales_clean.index)))\n",
    "\n",
    "print(\"Earliest date found: {}\".format(sales_clean.InvoiceDate.min()))\n",
    "print(\"Latest date found: {}\".format(sales_clean.InvoiceDate.max()))\n",
    "\n",
    "sales_customers = sales_clean.CustomerID.unique()\n",
    "print(\"Number of unique customers: {}\".format(len(sales_customers)))\n",
    "\n",
    "sales_transactions = sales_clean.InvoiceNo.unique()\n",
    "print(\"Number of unique Transactions: {}\".format(len(sales_transactions)))\n",
    "\n",
    "sales_items = sales_clean.StockCode.unique()\n",
    "print(\"Number of unique Items: {}\".format(len(sales_items)))\n",
    "\n",
    "customer_17850 = sales_clean[sales_clean.CustomerID == 17850]\n",
    "customer_17850_transactions = customer_17850.InvoiceNo.unique()\n",
    "print(\"Number of unique Transactions for 17850: {}\".format(len(customer_17850_transactions)))\n",
    "\n",
    "unique_transactions = sales_clean.drop_duplicates('InvoiceNo')\n",
    "unique_transactions_by_cust_id = unique_transactions.groupby('CustomerID')['InvoiceNo'].nunique()\n",
    "print(\"Customer ID with the most transactions: {} with a total of {} transactions\"\n",
    "        .format(unique_transactions_by_cust_id.idxmax(), unique_transactions_by_cust_id.max()))\n",
    "\n",
    "items_sold = sales_clean[['StockCode','Quantity']].sort_values('StockCode')\n",
    "\n",
    "items_sold_grouped = items_sold.groupby(['StockCode']).sum().Quantity\n",
    "print(\"Item ID with the most sales: {} with a total of {} items sold\".format(items_sold_grouped.idxmax(),\n",
    "                                                                              items_sold_grouped.max()))\n",
    "display(sales_clean[sales_clean['StockCode']=='23843'])"
   ]
  },
  {
   "cell_type": "markdown",
   "metadata": {},
   "source": [
    "<span style=\"color:blue\"> 1)~8) Please provide the answers to the questions listed in the table. </span>"
   ]
  },
  {
   "cell_type": "markdown",
   "metadata": {},
   "source": [
    "This is a markdown cell. Please fill in your answer for (1)~(8).\n",
    "\n",
    "| No. | Question                                                                                                   | Answer       |\n",
    "|-----|------------------------------------------------------------------------------------------------------------|--------------|\n",
    "| 1)  | Starting date of the dataset?                                                                              | _2010-12-01 08:26:00_ |\n",
    "| 2)  | Ending date of the dataset?                                                                                | _2011-12-09 12:50:00_ |\n",
    "| 3)  | Number of customers?                                                                                       | _4338_ |\n",
    "| 4)  | Number of transactions?                                                                                    | _18532_ |\n",
    "| 5)  | Number of different kind of items?                                                                         | _3665_ |\n",
    "| 6)  | Number of transactions customer ID 17850 has made?                                                         | _34_ |\n",
    "| 7)  | Which customer (ID) has made the most transactions?                                                        | _12748_ |\n",
    "| 8)  | What is the item ID of the best-seller? We define \"best-seller\" as the item with the highest sales volume. | _23843_ |"
   ]
  },
  {
   "cell_type": "markdown",
   "metadata": {},
   "source": [
    "<span style=\"color:blue\"> 9) Next, let us get some general understanding about the transactions.  Please make a histogram of the number of unique items per transaction and describe one insight that you can observe from the plot, and explain why you find it interesting.  </span>"
   ]
  },
  {
   "cell_type": "code",
   "execution_count": 3,
   "metadata": {},
   "outputs": [
    {
     "name": "stdout",
     "output_type": "stream",
     "text": [
      "1\n",
      "542\n",
      "21.470105763004533\n",
      "15.0\n"
     ]
    },
    {
     "data": {
      "text/plain": [
       "<matplotlib.axes._subplots.AxesSubplot at 0x11e1cef98>"
      ]
     },
     "metadata": {},
     "output_type": "display_data"
    },
    {
     "data": {
      "image/png": "[encoded data removed]",
      "text/plain": [
       "<Figure size 432x288 with 1 Axes>"
      ]
     },
     "metadata": {
      "needs_background": "light"
     },
     "output_type": "display_data"
    }
   ],
   "source": [
    "sales_by_transaction = sales_clean.groupby(['InvoiceNo'])\n",
    "print(sales_by_transaction.StockCode.count().min())\n",
    "print(sales_by_transaction.StockCode.count().max())\n",
    "print(sales_by_transaction.StockCode.count().mean())\n",
    "print(sales_by_transaction.StockCode.count().median())\n",
    "display(sales_by_transaction.StockCode.count().hist(bins=range(0,542)))"
   ]
  },
  {
   "cell_type": "markdown",
   "metadata": {},
   "source": [
    "This store has a wide variety of selections available for purchase. While they are not a shop that sells a number of unique items in each transaction, their sales are significant in general, having a number of transactions in which they sell more than 100 items and a record selling in one same invoice of 542 items. While the big mayority of invoices stay at the 1 item sellpoint, the average items sold is 21 items per invoice."
   ]
  },
  {
   "cell_type": "markdown",
   "metadata": {},
   "source": [
    "<span style=\"color:blue\"> 10) We can also explore the data based on the items.  Let us make a bar plot of the items with support higher than 5%. Please describe one insight that you can observe from the plot, and explain how it can be related to rule mining. </span>"
   ]
  },
  {
   "cell_type": "code",
   "execution_count": 4,
   "metadata": {
    "scrolled": false
   },
   "outputs": [
    {
     "name": "stdout",
     "output_type": "stream",
     "text": [
      "Number of unique transactions: 18532\n"
     ]
    },
    {
     "data": {
      "text/plain": [
       "<matplotlib.axes._subplots.AxesSubplot at 0x11febc7f0>"
      ]
     },
     "execution_count": 4,
     "metadata": {},
     "output_type": "execute_result"
    },
    {
     "data": {
      "image/png": "[encoded data removed]",
      "text/plain": [
       "<Figure size 432x288 with 1 Axes>"
      ]
     },
     "metadata": {
      "needs_background": "light"
     },
     "output_type": "display_data"
    }
   ],
   "source": [
    "print(\"Number of unique transactions: {}\".format(len(unique_transactions)))\n",
    "items_sold_by_descriptions = sales_clean[['Description','Quantity']].sort_values('Description')\n",
    "items_sold_by_description_grouped = items_sold_by_descriptions.groupby(['Description']).count()\n",
    "\n",
    "five_percent = items_sold_by_description_grouped[\n",
    "    items_sold_by_description_grouped[\n",
    "        'Quantity']/len(unique_transactions)>0.05].sort_values('Quantity', ascending=False)\n",
    "five_percent.plot.bar()\n",
    "\n",
    "#items_sold_by_description_grouped[items_sold_by_description_grouped['Quantity']/len(unique_transactions)>0.05].plot.bar(x='Description', y='Quantity')\n"
   ]
  },
  {
   "cell_type": "markdown",
   "metadata": {},
   "source": [
    "- Only 19 items out of the total 3,665 are found to have a support higher than 5%. Meaning that across all the 18,532 transactions only these 19 items appear in 5% or more of them. \n",
    "- While this could be a trace of an item's popularity, it can also be taken as the commonality of these items and their usual demand for the store."
   ]
  },
  {
   "cell_type": "markdown",
   "metadata": {},
   "source": [
    "<span style=\"color:blue\"> 11) Compare the “best-seller” that you have previously found in (8) and the item with the highest support that you have just found in (10). Which item do you think is more popular? Here we define the “popular” items as items that are bought by many customers. Explain you answer and describe any assumptions you’ve made. </span>"
   ]
  },
  {
   "cell_type": "markdown",
   "metadata": {},
   "source": [
    "- Best-seller was PAPER CRAFT , LITTLE BIRDIE\n",
    "- The item with the most support is WHITE-HANGING HEART T-LIGHT HOLDER. \n",
    "- The reason why the little birdie papercraft is the best seller is because of one single order that came by an amount of 80995 for a single client. \n",
    "- Light Holder appears in multiple invoices by multiple customers. This will make the T-Light holder the more popular item"
   ]
  },
  {
   "cell_type": "markdown",
   "metadata": {},
   "source": [
    "## Section 2 - Mining Association Rules"
   ]
  },
  {
   "cell_type": "markdown",
   "metadata": {},
   "source": [
    "<span style=\"color:blue\"> 1) Will we complete the counting before the sun burns out (the sun has another $ 5 \\times 10^9 < 2^{33} $ years to burn)? </span>"
   ]
  },
  {
   "cell_type": "markdown",
   "metadata": {},
   "source": [
    "<span>If we are considering a brute-force approach to count the number of association rules:\n",
    "There are a total of 3665 items which is a total of $ 4.460 \\times 10^{1748} $ sets. Even if they were done at a rate of $ 2^{36} $ items per second, it would take us the humble amount of $ 2.0566 \\times 10^{1730} $ years... so yes the sun would be out by then </span>"
   ]
  },
  {
   "cell_type": "markdown",
   "metadata": {},
   "source": [
    "<span style=\"color:blue\"> 2) Run efficient-apriori in python with min_support=0.5%, min_confidence=20%, max_length=4. Write down the rule with the highest lift (denoted as $r_1$). </span>"
   ]
  },
  {
   "cell_type": "code",
   "execution_count": 5,
   "metadata": {},
   "outputs": [
    {
     "name": "stdout",
     "output_type": "stream",
     "text": [
      "14min 22s ± 0 ns per loop (mean ± std. dev. of 1 run, 1 loop each)\n"
     ]
    }
   ],
   "source": [
    "sales_by_transaction = sales_clean.groupby(['InvoiceNo'])\n",
    "transactions = list()\n",
    "for name, group in sales_by_transaction:\n",
    "    transactions.append(tuple(group.StockCode.values))\n",
    "\n",
    "%timeit -n 1 -r 1 itemsets, rules = apriori(transactions, min_support=0.005,  min_confidence=0.2, max_length=4)"
   ]
  },
  {
   "cell_type": "code",
   "execution_count": 7,
   "metadata": {
    "scrolled": true
   },
   "outputs": [
    {
     "name": "stdout",
     "output_type": "stream",
     "text": [
      "Highest Lift: 128.10138248847926\n",
      "{22698, 23171} -> {22697, 23172} (conf: 0.823, supp: 0.006, lift: 128.101, conv: 5.600)\n"
     ]
    }
   ],
   "source": [
    "itemsets, rules = apriori(transactions, min_support=0.005,  min_confidence=0.2, max_length=4)\n",
    "r1 = 0\n",
    "rule1 = rules[0]\n",
    "for rule in rules:\n",
    "    if rule.lift > r1:\n",
    "        r1 = rule.lift\n",
    "        rule1 = rule\n",
    "print(\"Highest Lift: {}\".format(r1))\n",
    "print(rule1)"
   ]
  },
  {
   "cell_type": "markdown",
   "metadata": {},
   "source": [
    "{22698, 23171} -> {22697, 23172} (conf: 0.823, supp: 0.006, lift: 128.101, conv: 5.600)"
   ]
  },
  {
   "cell_type": "markdown",
   "metadata": {},
   "source": [
    "<span style=\"color:blue\"> 3) Run efficient-apriori in python with min_support=1%, min_confidence=20%, max_length=4. Write down the rule with the highest lift (denoted as $r_2$). </span>"
   ]
  },
  {
   "cell_type": "code",
   "execution_count": 8,
   "metadata": {},
   "outputs": [
    {
     "name": "stdout",
     "output_type": "stream",
     "text": [
      "5min 23s ± 0 ns per loop (mean ± std. dev. of 1 run, 1 loop each)\n"
     ]
    }
   ],
   "source": [
    "%timeit -n 1 -r 1 itemsets2, rules2 = apriori(transactions, min_support=0.01,  min_confidence=0.2, max_length=4)\n"
   ]
  },
  {
   "cell_type": "code",
   "execution_count": 9,
   "metadata": {},
   "outputs": [
    {
     "name": "stdout",
     "output_type": "stream",
     "text": [
      "Highest Lift: 61.89589947089947\n",
      "{23172} -> {23171} (conf: 0.902, supp: 0.011, lift: 61.896, conv: 10.033)\n"
     ]
    }
   ],
   "source": [
    "itemsets2, rules2 = apriori(transactions, min_support=0.01,  min_confidence=0.2, max_length=4)\n",
    "r2 = 0\n",
    "rule2 = rules2[0]\n",
    "for rule in rules2:\n",
    "    if rule.lift > r2:\n",
    "        r2 = rule.lift\n",
    "        rule2 = rule\n",
    "print(\"Highest Lift: {}\".format(r2))\n",
    "print(rule2)"
   ]
  },
  {
   "cell_type": "markdown",
   "metadata": {},
   "source": [
    "{23172} -> {23171} (conf: 0.902, supp: 0.011, lift: 61.896, conv: 10.033)"
   ]
  },
  {
   "cell_type": "markdown",
   "metadata": {},
   "source": [
    "<span style=\"color:blue\"> 4) Run efficient-apriori in python with min_support=0.5%, min_confidence=40%, max_length=4. Write down the rule with the highest lift (denoted as $r_3$). </span>"
   ]
  },
  {
   "cell_type": "code",
   "execution_count": 10,
   "metadata": {},
   "outputs": [
    {
     "name": "stdout",
     "output_type": "stream",
     "text": [
      "15min 35s ± 0 ns per loop (mean ± std. dev. of 1 run, 1 loop each)\n"
     ]
    }
   ],
   "source": [
    "%timeit -n 1 -r 1 itemsets3, rules3 = apriori(transactions, min_support=0.005,  min_confidence=0.4, max_length=4)\n"
   ]
  },
  {
   "cell_type": "code",
   "execution_count": 11,
   "metadata": {},
   "outputs": [
    {
     "name": "stdout",
     "output_type": "stream",
     "text": [
      "Highest Lift: 128.10138248847926\n",
      "{22698, 23171} -> {22697, 23172} (conf: 0.823, supp: 0.006, lift: 128.101, conv: 5.600)\n"
     ]
    }
   ],
   "source": [
    "itemsets3, rules3 = apriori(transactions, min_support=0.005,  min_confidence=0.4, max_length=4)\n",
    "r3 = 0\n",
    "rule3 = rules3[0]\n",
    "for rule in rules3:\n",
    "    if rule.lift > r3:\n",
    "        r3 = rule.lift\n",
    "        rule3=rule\n",
    "print(\"Highest Lift: {}\".format(r3))\n",
    "print(rule3)"
   ]
  },
  {
   "cell_type": "markdown",
   "metadata": {},
   "source": [
    "{22698, 23171} -> {22697, 23172} (conf: 0.823, supp: 0.006, lift: 128.101, conv: 5.600)"
   ]
  },
  {
   "cell_type": "markdown",
   "metadata": {},
   "source": [
    "<span style=\"color:blue\"> 5) You must have noticed numerous differences between the two runs in (2) and (3). List at least 3 differences you’ve found. You may want to consider the elapsed time and the quality of the results.  </span>"
   ]
  },
  {
   "cell_type": "markdown",
   "metadata": {},
   "source": [
    "- For this particular cleaned set, run 3 was almost identical on results and time to run 1\n",
    "- Run 2 is significantly faster than run 3 thanks to a higher threshold on support\n",
    "- Run 3 returns a much higher lift on the best rule found across the set thanks to a wider pool of rules to analyze"
   ]
  },
  {
   "cell_type": "markdown",
   "metadata": {},
   "source": [
    "<span style=\"color:blue\"> 6) Which one in $r_1$,$r_2$, and $r_3$ do you think is better? Explain your answer. </span>"
   ]
  },
  {
   "cell_type": "markdown",
   "metadata": {},
   "source": [
    "R3. Despite being basically the same as R1, a higher minimum confidence allows for more significant results and it performed better on returning a higher lift than R2"
   ]
  },
  {
   "cell_type": "markdown",
   "metadata": {},
   "source": [
    "<span style=\"color:blue\"> 7) From your observation, what are the effects of increasing/reducing min_support and min_confidence? Support your answer with evidence. </span>"
   ]
  },
  {
   "cell_type": "markdown",
   "metadata": {},
   "source": [
    "- Increasing min_support reduces the processing time but also the quality of the results\n",
    "- Increasing the minimum confidence returns less rules, however they will be more significant and impactful due to being stricter"
   ]
  },
  {
   "cell_type": "markdown",
   "metadata": {},
   "source": [
    "## Section 3 - Mining Sequential Rules"
   ]
  },
  {
   "cell_type": "markdown",
   "metadata": {},
   "source": [
    "<span style=\"color:blue\"> 1) Organize the dataset into sequences and fill the table below. </span>"
   ]
  },
  {
   "cell_type": "code",
   "execution_count": 12,
   "metadata": {
    "scrolled": true
   },
   "outputs": [
    {
     "data": {
      "text/html": [
       "<div>\n",
       "<style scoped>\n",
       "    .dataframe tbody tr th:only-of-type {\n",
       "        vertical-align: middle;\n",
       "    }\n",
       "\n",
       "    .dataframe tbody tr th {\n",
       "        vertical-align: top;\n",
       "    }\n",
       "\n",
       "    .dataframe thead th {\n",
       "        text-align: right;\n",
       "    }\n",
       "</style>\n",
       "<table border=\"1\" class=\"dataframe\">\n",
       "  <thead>\n",
       "    <tr style=\"text-align: right;\">\n",
       "      <th></th>\n",
       "      <th>CustomerID</th>\n",
       "      <th>Beginning Date of Sequence</th>\n",
       "      <th>Ending Date of Sequence</th>\n",
       "      <th>Number of transactions in the sequence</th>\n",
       "    </tr>\n",
       "  </thead>\n",
       "  <tbody>\n",
       "    <tr>\n",
       "      <th>1103</th>\n",
       "      <td>12356.0</td>\n",
       "      <td>2011-01-18 09:50:00</td>\n",
       "      <td>2011-11-17 08:40:00</td>\n",
       "      <td>3</td>\n",
       "    </tr>\n",
       "  </tbody>\n",
       "</table>\n",
       "</div>"
      ],
      "text/plain": [
       "      CustomerID Beginning Date of Sequence Ending Date of Sequence  \\\n",
       "1103     12356.0        2011-01-18 09:50:00     2011-11-17 08:40:00   \n",
       "\n",
       "     Number of transactions in the sequence  \n",
       "1103                                      3  "
      ]
     },
     "execution_count": 12,
     "metadata": {},
     "output_type": "execute_result"
    }
   ],
   "source": [
    "sales_by_date = sales_clean.sort_values(['InvoiceDate'])\n",
    "customers = sales_by_date.CustomerID.unique()\n",
    "sequences = pd.DataFrame(columns=['CustomerID', 'Beginning Date of Sequence',\n",
    "                                  'Ending Date of Sequence', 'Number of transactions in the sequence'])\n",
    "for customer in customers:\n",
    "    sequences = sequences.append({'CustomerID': customer,\n",
    "                     'Beginning Date of Sequence': sales_by_date[sales_by_date['CustomerID']==customer].InvoiceDate.min(),\n",
    "                     'Ending Date of Sequence': sales_by_date[sales_by_date['CustomerID']==customer].InvoiceDate.max(),\n",
    "                     'Number of transactions in the sequence': len(sales_by_date[sales_by_date['CustomerID']==customer].InvoiceNo.unique())},\n",
    "                    ignore_index=True)\n",
    "sequences[sequences.CustomerID == 12356]\n"
   ]
  },
  {
   "cell_type": "markdown",
   "metadata": {},
   "source": [
    "Answered in the above code cell. Keeping the Markdown cell for reference.\n",
    "\n",
    "| CustomerID | Beginning Date of Sequence | Ending Date of Sequence | Number of transactions in the sequence |\n",
    "|:----------:|:--------------------------:|:-----------------------:|:--------------------------------------:|\n",
    "|    12356   |        2011-01-18 09:50:00        |       2011-11-17 08:40:00 \t      |              3              |"
   ]
  },
  {
   "cell_type": "markdown",
   "metadata": {},
   "source": [
    "<span style=\"color:blue\"> 2) Run ERMiner with min_support=0.5%, min_confidence=60%, maximum length of antecedent and consequence being 1. Write down the rule(s) with the highest confidence. </span> You need to convert the dataset into the format that SPMF supports. Please read http://www.philippe-fournier-viger.com/spmf/ERMiner.php carefully."
   ]
  },
  {
   "cell_type": "code",
   "execution_count": 13,
   "metadata": {},
   "outputs": [],
   "source": [
    "stock_codes = sales_by_date.StockCode.unique()\n",
    "d = {'StockCode': stock_codes}\n",
    "stock_codes_df = pd.DataFrame(data = d)\n",
    "ERMiner = open('ERMiner.txt', mode='w')\n",
    "\n",
    "transaction_sales = sales_by_date.groupby(['CustomerID'])\n",
    "for group_name, transaction in transaction_sales:\n",
    "    transaction_string = ''\n",
    "    sales_by_customer = transaction.groupby(['InvoiceNo'])\n",
    "    for name, individual_sale in sales_by_customer:\n",
    "        for code in individual_sale.StockCode:\n",
    "            transaction_string += \"{} \".format(\n",
    "                stock_codes_df.index[stock_codes_df.StockCode == code].tolist()[0])\n",
    "        transaction_string += \"-1 \"\n",
    "    transaction_string += \"-2 \\n\".format()\n",
    "    ERMiner.write(transaction_string)\n",
    "    \n",
    "ERMiner.close()"
   ]
  },
  {
   "cell_type": "markdown",
   "metadata": {},
   "source": [
    "169 ==> 171 #SUP: 32 #CONF: 0.7619047619047619\n",
    "\n",
    "197 ==> 42 #SUP: 108 #CONF: 0.6033519553072626\n",
    "\n",
    "197 ==> 43 #SUP: 115 #CONF: 0.6424581005586593\n",
    "\n",
    "477 ==> 0 #SUP: 28 #CONF: 0.6829268292682927"
   ]
  },
  {
   "cell_type": "code",
   "execution_count": 18,
   "metadata": {},
   "outputs": [
    {
     "data": {
      "text/plain": [
       "'LARGE POPCORN HOLDER  ==> SMALL POPCORN HOLDER'"
      ]
     },
     "metadata": {},
     "output_type": "display_data"
    },
    {
     "data": {
      "text/plain": [
       "'ALARM CLOCK BAKELIKE ORANGE ==> ALARM CLOCK BAKELIKE GREEN'"
      ]
     },
     "metadata": {},
     "output_type": "display_data"
    },
    {
     "data": {
      "text/plain": [
       "'ALARM CLOCK BAKELIKE ORANGE ==> ALARM CLOCK BAKELIKE RED '"
      ]
     },
     "metadata": {},
     "output_type": "display_data"
    },
    {
     "data": {
      "text/plain": [
       "'WHITE HANGING HEART T-LIGHT HOLDER ==>  SET 2 TEA TOWELS I LOVE LONDON '"
      ]
     },
     "metadata": {},
     "output_type": "display_data"
    }
   ],
   "source": [
    "display(\"{} ==> {}\".format(sales_clean[sales_clean.StockCode == stock_codes_df.iloc[169].values[0]].\n",
    "                           Description.values[0],\n",
    "                           sales_clean[sales_clean.StockCode == stock_codes_df.iloc[171].values[0]].\n",
    "                           Description.values[0]))\n",
    "display(\"{} ==> {}\".format(sales_clean[sales_clean.StockCode == stock_codes_df.iloc[197].values[0]].\n",
    "                           Description.values[0],\n",
    "                           sales_clean[sales_clean.StockCode == stock_codes_df.iloc[42].values[0]].\n",
    "                           Description.values[0]))\n",
    "display(\"{} ==> {}\".format(sales_clean[sales_clean.StockCode == stock_codes_df.iloc[197].values[0]].\n",
    "                           Description.values[0],\n",
    "                           sales_clean[sales_clean.StockCode == stock_codes_df.iloc[43].values[0]].\n",
    "                           Description.values[0]))\n",
    "display(\"{} ==> {}\".format(sales_clean[sales_clean.StockCode == stock_codes_df.iloc[0].values[0]].\n",
    "                           Description.values[0],\n",
    "                           sales_clean[sales_clean.StockCode == stock_codes_df.iloc[28].values[0]].\n",
    "                           Description.values[0]))"
   ]
  },
  {
   "cell_type": "markdown",
   "metadata": {},
   "source": [
    "<span style=\"color:blue\"> 3) Do you think the parameters used in (2) are good in practice? If yes, explain your answer. If no, give a better set of parameters and explain why it is better. </span>"
   ]
  },
  {
   "cell_type": "markdown",
   "metadata": {},
   "source": [
    "- Given the distribution of the support in this specific dataset, 0.5% support is a good starting point which will return a good amount of sets.\n",
    "- Confidence as 60% is also an acceptable value that filters out many sequential rules that don't have causation\n",
    "- Max. Length of antecedent and consequence should be raised to 2 given that a lot of clients have more than 3 transactions with this shop"
   ]
  },
  {
   "cell_type": "markdown",
   "metadata": {},
   "source": [
    "<span style=\"color:blue\"> 4) What are the differences between sequential rules and association rules? Give 2 of them. Describe a circumstance where sequential rules apply but association rules do not. </span>"
   ]
  },
  {
   "cell_type": "markdown",
   "metadata": {},
   "source": [
    "- Sequential rules are temporal and ordered. They place a significant importance to the order of the items shopped whereas association rules do not\n",
    "- Association rules analyze items that are bought together, while sequential identify patterns that appear over several transactions"
   ]
  },
  {
   "cell_type": "markdown",
   "metadata": {},
   "source": [
    "## Section 4 - Insights to Actions\n",
    "\n",
    "Please prepare a one-page report on the insights that you have derived from the dataset and how Nozama management can turn the insights into actions that will help it improve its sales and services. Please provide at least 4 insights and the corresponding actions. The insights should not overlap with what you have found in Sections 1~3. \n",
    "\n",
    "Please submit a one-page pdf file named __“YourNameInIVLE_YourIDInIVLE.pdf\"__ to the submission folder in IVLE."
   ]
  },
  {
   "cell_type": "code",
   "execution_count": 47,
   "metadata": {},
   "outputs": [
    {
     "data": {
      "text/html": [
       "<div>\n",
       "<style scoped>\n",
       "    .dataframe tbody tr th:only-of-type {\n",
       "        vertical-align: middle;\n",
       "    }\n",
       "\n",
       "    .dataframe tbody tr th {\n",
       "        vertical-align: top;\n",
       "    }\n",
       "\n",
       "    .dataframe thead th {\n",
       "        text-align: right;\n",
       "    }\n",
       "</style>\n",
       "<table border=\"1\" class=\"dataframe\">\n",
       "  <thead>\n",
       "    <tr style=\"text-align: right;\">\n",
       "      <th></th>\n",
       "      <th>Quantity</th>\n",
       "      <th>UnitPrice</th>\n",
       "      <th>CustomerID</th>\n",
       "    </tr>\n",
       "    <tr>\n",
       "      <th>Description</th>\n",
       "      <th></th>\n",
       "      <th></th>\n",
       "      <th></th>\n",
       "    </tr>\n",
       "  </thead>\n",
       "  <tbody>\n",
       "    <tr>\n",
       "      <th>NECKLACE+BRACELET SET PINK DAISY</th>\n",
       "      <td>1.000000</td>\n",
       "      <td>2.550000</td>\n",
       "      <td>17364.000000</td>\n",
       "    </tr>\n",
       "    <tr>\n",
       "      <th>GOLD M.O.P. ORBIT NECKLACE</th>\n",
       "      <td>1.000000</td>\n",
       "      <td>2.950000</td>\n",
       "      <td>14451.500000</td>\n",
       "    </tr>\n",
       "    <tr>\n",
       "      <th>SET OF 3 PINK FLYING DUCKS</th>\n",
       "      <td>1.000000</td>\n",
       "      <td>5.450000</td>\n",
       "      <td>14667.000000</td>\n",
       "    </tr>\n",
       "    <tr>\n",
       "      <th>CROCHET LILAC/RED BEAR KEYRING</th>\n",
       "      <td>1.000000</td>\n",
       "      <td>1.650000</td>\n",
       "      <td>17883.000000</td>\n",
       "    </tr>\n",
       "    <tr>\n",
       "      <th>CROCHET DOG KEYRING</th>\n",
       "      <td>1.000000</td>\n",
       "      <td>1.650000</td>\n",
       "      <td>14461.000000</td>\n",
       "    </tr>\n",
       "    <tr>\n",
       "      <th>SET OF 16 VINTAGE IVORY CUTLERY</th>\n",
       "      <td>1.000000</td>\n",
       "      <td>12.750000</td>\n",
       "      <td>15558.500000</td>\n",
       "    </tr>\n",
       "    <tr>\n",
       "      <th>SET 36 COLOURING PENCILS DOILEY</th>\n",
       "      <td>1.000000</td>\n",
       "      <td>1.250000</td>\n",
       "      <td>14646.000000</td>\n",
       "    </tr>\n",
       "    <tr>\n",
       "      <th>SET 12 COLOURING PENCILS DOILEY</th>\n",
       "      <td>1.000000</td>\n",
       "      <td>0.650000</td>\n",
       "      <td>14646.000000</td>\n",
       "    </tr>\n",
       "    <tr>\n",
       "      <th>SET 10 CARDS HANGING BAUBLES 17080</th>\n",
       "      <td>1.000000</td>\n",
       "      <td>2.990000</td>\n",
       "      <td>15810.000000</td>\n",
       "    </tr>\n",
       "    <tr>\n",
       "      <th>CRACKED GLAZE EARRINGS RED</th>\n",
       "      <td>1.000000</td>\n",
       "      <td>2.550000</td>\n",
       "      <td>14801.000000</td>\n",
       "    </tr>\n",
       "    <tr>\n",
       "      <th>CRACKED GLAZE EARRINGS BROWN</th>\n",
       "      <td>1.000000</td>\n",
       "      <td>2.550000</td>\n",
       "      <td>15406.000000</td>\n",
       "    </tr>\n",
       "    <tr>\n",
       "      <th>FIRE POLISHED GLASS NECKL GOLD</th>\n",
       "      <td>1.000000</td>\n",
       "      <td>5.950000</td>\n",
       "      <td>13221.000000</td>\n",
       "    </tr>\n",
       "    <tr>\n",
       "      <th>SCALLOP SHELL SOAP DISH</th>\n",
       "      <td>1.000000</td>\n",
       "      <td>2.100000</td>\n",
       "      <td>18196.000000</td>\n",
       "    </tr>\n",
       "    <tr>\n",
       "      <th>FIRE POLISHED GLASS NECKL BRONZE</th>\n",
       "      <td>1.000000</td>\n",
       "      <td>5.950000</td>\n",
       "      <td>15358.666667</td>\n",
       "    </tr>\n",
       "    <tr>\n",
       "      <th>FIRE POLISHED GLASS BRACELET BLACK</th>\n",
       "      <td>1.000000</td>\n",
       "      <td>3.750000</td>\n",
       "      <td>17537.000000</td>\n",
       "    </tr>\n",
       "    <tr>\n",
       "      <th>S/3 PINK SQUARE PLANTERS ROSES</th>\n",
       "      <td>1.000000</td>\n",
       "      <td>10.950000</td>\n",
       "      <td>15787.000000</td>\n",
       "    </tr>\n",
       "    <tr>\n",
       "      <th>BLACK DROP EARRINGS W LONG BEADS</th>\n",
       "      <td>1.000000</td>\n",
       "      <td>2.950000</td>\n",
       "      <td>14570.000000</td>\n",
       "    </tr>\n",
       "    <tr>\n",
       "      <th>BLACK FINE BEAD NECKLACE W TASSEL</th>\n",
       "      <td>1.000000</td>\n",
       "      <td>5.950000</td>\n",
       "      <td>15028.000000</td>\n",
       "    </tr>\n",
       "    <tr>\n",
       "      <th>BLACK GEMSTONE BRACELET</th>\n",
       "      <td>1.000000</td>\n",
       "      <td>6.950000</td>\n",
       "      <td>16552.000000</td>\n",
       "    </tr>\n",
       "    <tr>\n",
       "      <th>WHITE CHRISTMAS TREE 60CM</th>\n",
       "      <td>1.000000</td>\n",
       "      <td>2.950000</td>\n",
       "      <td>15862.500000</td>\n",
       "    </tr>\n",
       "    <tr>\n",
       "      <th>BLACK GEMSTONE NECKLACE 45CM</th>\n",
       "      <td>1.000000</td>\n",
       "      <td>12.750000</td>\n",
       "      <td>15804.000000</td>\n",
       "    </tr>\n",
       "    <tr>\n",
       "      <th>RUBY GLASS CLUSTER EARRINGS</th>\n",
       "      <td>1.000000</td>\n",
       "      <td>1.250000</td>\n",
       "      <td>14801.000000</td>\n",
       "    </tr>\n",
       "    <tr>\n",
       "      <th>AMBER CHUNKY GLASS+BEAD NECKLACE</th>\n",
       "      <td>1.000000</td>\n",
       "      <td>11.950000</td>\n",
       "      <td>16375.000000</td>\n",
       "    </tr>\n",
       "    <tr>\n",
       "      <th>BLACKCHRISTMAS TREE 30CM</th>\n",
       "      <td>1.000000</td>\n",
       "      <td>1.250000</td>\n",
       "      <td>15048.000000</td>\n",
       "    </tr>\n",
       "    <tr>\n",
       "      <th>BLOSSOM IMAGES SCRAP BOOK SET</th>\n",
       "      <td>1.000000</td>\n",
       "      <td>4.950000</td>\n",
       "      <td>14723.000000</td>\n",
       "    </tr>\n",
       "    <tr>\n",
       "      <th>WHITE MURANO TWIST BRACELET</th>\n",
       "      <td>1.000000</td>\n",
       "      <td>4.250000</td>\n",
       "      <td>15303.000000</td>\n",
       "    </tr>\n",
       "    <tr>\n",
       "      <th>5 STRAND GLASS NECKLACE AMBER</th>\n",
       "      <td>1.000000</td>\n",
       "      <td>6.350000</td>\n",
       "      <td>15843.000000</td>\n",
       "    </tr>\n",
       "    <tr>\n",
       "      <th>WHITE ROSEBUD  PEARL EARRINGS</th>\n",
       "      <td>1.000000</td>\n",
       "      <td>2.550000</td>\n",
       "      <td>15856.000000</td>\n",
       "    </tr>\n",
       "    <tr>\n",
       "      <th>SET/3 FLORAL GARDEN TOOLS IN BAG</th>\n",
       "      <td>1.000000</td>\n",
       "      <td>7.950000</td>\n",
       "      <td>14083.000000</td>\n",
       "    </tr>\n",
       "    <tr>\n",
       "      <th>GOLD M.O.P ORBIT BRACELET</th>\n",
       "      <td>1.000000</td>\n",
       "      <td>4.950000</td>\n",
       "      <td>15892.500000</td>\n",
       "    </tr>\n",
       "    <tr>\n",
       "      <th>...</th>\n",
       "      <td>...</td>\n",
       "      <td>...</td>\n",
       "      <td>...</td>\n",
       "    </tr>\n",
       "    <tr>\n",
       "      <th>TEATIME PUSH DOWN RUBBER</th>\n",
       "      <td>77.833333</td>\n",
       "      <td>0.305000</td>\n",
       "      <td>15087.166667</td>\n",
       "    </tr>\n",
       "    <tr>\n",
       "      <th>PORCELAIN BUDAH INCENSE HOLDER</th>\n",
       "      <td>79.000000</td>\n",
       "      <td>0.095263</td>\n",
       "      <td>15234.894737</td>\n",
       "    </tr>\n",
       "    <tr>\n",
       "      <th>BLACK WINE GLASS</th>\n",
       "      <td>79.619048</td>\n",
       "      <td>0.630000</td>\n",
       "      <td>15460.285714</td>\n",
       "    </tr>\n",
       "    <tr>\n",
       "      <th>SMALLFOLKART BAUBLE CHRISTMAS DEC</th>\n",
       "      <td>79.714286</td>\n",
       "      <td>0.321429</td>\n",
       "      <td>15996.714286</td>\n",
       "    </tr>\n",
       "    <tr>\n",
       "      <th>MINI PAINT SET VINTAGE</th>\n",
       "      <td>80.233846</td>\n",
       "      <td>0.656523</td>\n",
       "      <td>14708.689231</td>\n",
       "    </tr>\n",
       "    <tr>\n",
       "      <th>LETTER SHAPE PENCIL SHARPENER</th>\n",
       "      <td>80.878049</td>\n",
       "      <td>0.094634</td>\n",
       "      <td>15849.658537</td>\n",
       "    </tr>\n",
       "    <tr>\n",
       "      <th>RAIN PONCHO</th>\n",
       "      <td>82.200000</td>\n",
       "      <td>0.810000</td>\n",
       "      <td>13595.800000</td>\n",
       "    </tr>\n",
       "    <tr>\n",
       "      <th>MIRROR MOSAIC T-LIGHT HOLDER</th>\n",
       "      <td>85.166667</td>\n",
       "      <td>1.510000</td>\n",
       "      <td>15777.444444</td>\n",
       "    </tr>\n",
       "    <tr>\n",
       "      <th>ASSORTED FLOWER COLOUR \"LEIS\"</th>\n",
       "      <td>99.970874</td>\n",
       "      <td>0.618738</td>\n",
       "      <td>15357.029126</td>\n",
       "    </tr>\n",
       "    <tr>\n",
       "      <th>PEG BAG APPLE DESIGN</th>\n",
       "      <td>100.000000</td>\n",
       "      <td>2.100000</td>\n",
       "      <td>14156.000000</td>\n",
       "    </tr>\n",
       "    <tr>\n",
       "      <th>TEATIME GEL PENS ASST</th>\n",
       "      <td>100.800000</td>\n",
       "      <td>0.240000</td>\n",
       "      <td>15332.600000</td>\n",
       "    </tr>\n",
       "    <tr>\n",
       "      <th>PIECE OF CAMO STATIONERY SET</th>\n",
       "      <td>109.032258</td>\n",
       "      <td>0.096774</td>\n",
       "      <td>15415.548387</td>\n",
       "    </tr>\n",
       "    <tr>\n",
       "      <th>BROCADE RING PURSE</th>\n",
       "      <td>109.870813</td>\n",
       "      <td>0.320096</td>\n",
       "      <td>15642.320574</td>\n",
       "    </tr>\n",
       "    <tr>\n",
       "      <th>WORLD WAR 2 GLIDERS ASSTD DESIGNS</th>\n",
       "      <td>115.042283</td>\n",
       "      <td>0.292600</td>\n",
       "      <td>15277.031712</td>\n",
       "    </tr>\n",
       "    <tr>\n",
       "      <th>POPART WOODEN PENCILS ASST</th>\n",
       "      <td>128.985507</td>\n",
       "      <td>0.043478</td>\n",
       "      <td>14845.811594</td>\n",
       "    </tr>\n",
       "    <tr>\n",
       "      <th>ASSORTED INCENSE PACK</th>\n",
       "      <td>149.333333</td>\n",
       "      <td>0.202593</td>\n",
       "      <td>15908.444444</td>\n",
       "    </tr>\n",
       "    <tr>\n",
       "      <th>EMPIRE DESIGN ROSETTE</th>\n",
       "      <td>162.923077</td>\n",
       "      <td>1.226154</td>\n",
       "      <td>15079.269231</td>\n",
       "    </tr>\n",
       "    <tr>\n",
       "      <th>ASSORTED LAQUERED INCENSE HOLDERS</th>\n",
       "      <td>193.538462</td>\n",
       "      <td>0.200769</td>\n",
       "      <td>14729.076923</td>\n",
       "    </tr>\n",
       "    <tr>\n",
       "      <th>LUNCH BAG RED SPOTTY</th>\n",
       "      <td>200.000000</td>\n",
       "      <td>1.450000</td>\n",
       "      <td>14156.000000</td>\n",
       "    </tr>\n",
       "    <tr>\n",
       "      <th>POTTING SHED CANDLE CITRONELLA</th>\n",
       "      <td>201.000000</td>\n",
       "      <td>2.880000</td>\n",
       "      <td>17450.000000</td>\n",
       "    </tr>\n",
       "    <tr>\n",
       "      <th>MINI HIGHLIGHTER PENS</th>\n",
       "      <td>210.000000</td>\n",
       "      <td>0.120000</td>\n",
       "      <td>16987.750000</td>\n",
       "    </tr>\n",
       "    <tr>\n",
       "      <th>MISELTOE HEART WREATH CREAM</th>\n",
       "      <td>240.000000</td>\n",
       "      <td>4.150000</td>\n",
       "      <td>14156.000000</td>\n",
       "    </tr>\n",
       "    <tr>\n",
       "      <th>SMALL CHINESE STYLE SCISSOR</th>\n",
       "      <td>246.814815</td>\n",
       "      <td>0.401481</td>\n",
       "      <td>15447.537037</td>\n",
       "    </tr>\n",
       "    <tr>\n",
       "      <th>BOYS ALPHABET IRON ON PATCHES</th>\n",
       "      <td>249.600000</td>\n",
       "      <td>0.210000</td>\n",
       "      <td>15375.400000</td>\n",
       "    </tr>\n",
       "    <tr>\n",
       "      <th>SET/5 RED SPOTTY LID GLASS BOWLS</th>\n",
       "      <td>288.000000</td>\n",
       "      <td>2.550000</td>\n",
       "      <td>14156.000000</td>\n",
       "    </tr>\n",
       "    <tr>\n",
       "      <th>ESSENTIAL BALM 3.5g TIN IN ENVELOPE</th>\n",
       "      <td>325.333333</td>\n",
       "      <td>0.166667</td>\n",
       "      <td>14948.444444</td>\n",
       "    </tr>\n",
       "    <tr>\n",
       "      <th>MEDIUM CERAMIC TOP STORAGE JAR</th>\n",
       "      <td>393.515152</td>\n",
       "      <td>1.220303</td>\n",
       "      <td>15390.510101</td>\n",
       "    </tr>\n",
       "    <tr>\n",
       "      <th>GIRLS ALPHABET IRON ON PATCHES</th>\n",
       "      <td>520.000000</td>\n",
       "      <td>0.201667</td>\n",
       "      <td>14989.375000</td>\n",
       "    </tr>\n",
       "    <tr>\n",
       "      <th>TEA TIME TEA TOWELS</th>\n",
       "      <td>1300.000000</td>\n",
       "      <td>2.325000</td>\n",
       "      <td>15749.000000</td>\n",
       "    </tr>\n",
       "    <tr>\n",
       "      <th>PAPER CRAFT , LITTLE BIRDIE</th>\n",
       "      <td>80995.000000</td>\n",
       "      <td>2.080000</td>\n",
       "      <td>16446.000000</td>\n",
       "    </tr>\n",
       "  </tbody>\n",
       "</table>\n",
       "<p>3877 rows × 3 columns</p>\n",
       "</div>"
      ],
      "text/plain": [
       "                                         Quantity  UnitPrice    CustomerID\n",
       "Description                                                               \n",
       "NECKLACE+BRACELET SET PINK DAISY         1.000000   2.550000  17364.000000\n",
       "GOLD M.O.P. ORBIT NECKLACE               1.000000   2.950000  14451.500000\n",
       "SET OF 3 PINK FLYING DUCKS               1.000000   5.450000  14667.000000\n",
       "CROCHET LILAC/RED BEAR KEYRING           1.000000   1.650000  17883.000000\n",
       "CROCHET DOG KEYRING                      1.000000   1.650000  14461.000000\n",
       "SET OF 16 VINTAGE IVORY CUTLERY          1.000000  12.750000  15558.500000\n",
       "SET 36 COLOURING PENCILS DOILEY          1.000000   1.250000  14646.000000\n",
       "SET 12 COLOURING PENCILS DOILEY          1.000000   0.650000  14646.000000\n",
       "SET 10 CARDS HANGING BAUBLES 17080       1.000000   2.990000  15810.000000\n",
       "CRACKED GLAZE EARRINGS RED               1.000000   2.550000  14801.000000\n",
       "CRACKED GLAZE EARRINGS BROWN             1.000000   2.550000  15406.000000\n",
       "FIRE POLISHED GLASS NECKL GOLD           1.000000   5.950000  13221.000000\n",
       "SCALLOP SHELL SOAP DISH                  1.000000   2.100000  18196.000000\n",
       "FIRE POLISHED GLASS NECKL BRONZE         1.000000   5.950000  15358.666667\n",
       "FIRE POLISHED GLASS BRACELET BLACK       1.000000   3.750000  17537.000000\n",
       "S/3 PINK SQUARE PLANTERS ROSES           1.000000  10.950000  15787.000000\n",
       "BLACK DROP EARRINGS W LONG BEADS         1.000000   2.950000  14570.000000\n",
       "BLACK FINE BEAD NECKLACE W TASSEL        1.000000   5.950000  15028.000000\n",
       "BLACK GEMSTONE BRACELET                  1.000000   6.950000  16552.000000\n",
       "WHITE CHRISTMAS TREE 60CM                1.000000   2.950000  15862.500000\n",
       "BLACK GEMSTONE NECKLACE 45CM             1.000000  12.750000  15804.000000\n",
       "RUBY GLASS CLUSTER EARRINGS              1.000000   1.250000  14801.000000\n",
       "AMBER CHUNKY GLASS+BEAD NECKLACE         1.000000  11.950000  16375.000000\n",
       "BLACKCHRISTMAS TREE 30CM                 1.000000   1.250000  15048.000000\n",
       "BLOSSOM IMAGES SCRAP BOOK SET            1.000000   4.950000  14723.000000\n",
       "WHITE MURANO TWIST BRACELET              1.000000   4.250000  15303.000000\n",
       "5 STRAND GLASS NECKLACE AMBER            1.000000   6.350000  15843.000000\n",
       "WHITE ROSEBUD  PEARL EARRINGS            1.000000   2.550000  15856.000000\n",
       "SET/3 FLORAL GARDEN TOOLS IN BAG         1.000000   7.950000  14083.000000\n",
       "GOLD M.O.P ORBIT BRACELET                1.000000   4.950000  15892.500000\n",
       "...                                           ...        ...           ...\n",
       "TEATIME PUSH DOWN RUBBER                77.833333   0.305000  15087.166667\n",
       "PORCELAIN BUDAH INCENSE HOLDER          79.000000   0.095263  15234.894737\n",
       "BLACK WINE GLASS                        79.619048   0.630000  15460.285714\n",
       "SMALLFOLKART BAUBLE CHRISTMAS DEC       79.714286   0.321429  15996.714286\n",
       "MINI PAINT SET VINTAGE                  80.233846   0.656523  14708.689231\n",
       "LETTER SHAPE PENCIL SHARPENER           80.878049   0.094634  15849.658537\n",
       "RAIN PONCHO                             82.200000   0.810000  13595.800000\n",
       "MIRROR MOSAIC T-LIGHT HOLDER            85.166667   1.510000  15777.444444\n",
       "ASSORTED FLOWER COLOUR \"LEIS\"           99.970874   0.618738  15357.029126\n",
       "PEG BAG APPLE DESIGN                   100.000000   2.100000  14156.000000\n",
       "TEATIME GEL PENS ASST                  100.800000   0.240000  15332.600000\n",
       "PIECE OF CAMO STATIONERY SET           109.032258   0.096774  15415.548387\n",
       "BROCADE RING PURSE                     109.870813   0.320096  15642.320574\n",
       "WORLD WAR 2 GLIDERS ASSTD DESIGNS      115.042283   0.292600  15277.031712\n",
       "POPART WOODEN PENCILS ASST             128.985507   0.043478  14845.811594\n",
       "ASSORTED INCENSE PACK                  149.333333   0.202593  15908.444444\n",
       "EMPIRE DESIGN ROSETTE                  162.923077   1.226154  15079.269231\n",
       "ASSORTED LAQUERED INCENSE HOLDERS      193.538462   0.200769  14729.076923\n",
       "LUNCH BAG RED SPOTTY                   200.000000   1.450000  14156.000000\n",
       "POTTING SHED CANDLE CITRONELLA         201.000000   2.880000  17450.000000\n",
       "MINI HIGHLIGHTER PENS                  210.000000   0.120000  16987.750000\n",
       "MISELTOE HEART WREATH CREAM            240.000000   4.150000  14156.000000\n",
       "SMALL CHINESE STYLE SCISSOR            246.814815   0.401481  15447.537037\n",
       "BOYS ALPHABET IRON ON PATCHES          249.600000   0.210000  15375.400000\n",
       "SET/5 RED SPOTTY LID GLASS BOWLS       288.000000   2.550000  14156.000000\n",
       "ESSENTIAL BALM 3.5g TIN IN ENVELOPE    325.333333   0.166667  14948.444444\n",
       "MEDIUM CERAMIC TOP STORAGE JAR         393.515152   1.220303  15390.510101\n",
       "GIRLS ALPHABET IRON ON PATCHES         520.000000   0.201667  14989.375000\n",
       "TEA TIME TEA TOWELS                   1300.000000   2.325000  15749.000000\n",
       "PAPER CRAFT , LITTLE BIRDIE          80995.000000   2.080000  16446.000000\n",
       "\n",
       "[3877 rows x 3 columns]"
      ]
     },
     "metadata": {},
     "output_type": "display_data"
    },
    {
     "data": {
      "text/plain": [
       "710"
      ]
     },
     "metadata": {},
     "output_type": "display_data"
    },
    {
     "data": {
      "text/plain": [
       "1438"
      ]
     },
     "metadata": {},
     "output_type": "display_data"
    },
    {
     "name": "stdout",
     "output_type": "stream",
     "text": [
      "227\n",
      "4039\n"
     ]
    }
   ],
   "source": [
    "by_quantity = sales_clean.groupby(['Description']).mean()\n",
    "by_quantity = by_quantity.sort_values(['Quantity'])\n",
    "display(by_quantity)\n",
    "\n",
    "#print(len(by_quantity[by_quantity.Quantity == 1].count()))\n",
    "display(len(by_quantity[by_quantity.Quantity < 3]))\n",
    "display(len(by_quantity[by_quantity.Quantity > 10]))\n",
    "by_customer = sales_clean.groupby(['CustomerID']).count()\n",
    "print(len(by_customer[by_customer['InvoiceNo']<5]))\n",
    "print(len(by_customer[by_customer['InvoiceNo']>5]))"
   ]
  },
  {
   "cell_type": "code",
   "execution_count": 40,
   "metadata": {},
   "outputs": [
    {
     "data": {
      "text/plain": [
       "4.272014753342554"
      ]
     },
     "execution_count": 40,
     "metadata": {},
     "output_type": "execute_result"
    }
   ],
   "source": [
    "sequences['Number of transactions in the sequence'].mean()"
   ]
  },
  {
   "cell_type": "code",
   "execution_count": null,
   "metadata": {},
   "outputs": [],
   "source": []
  }
 ],
 "metadata": {
  "kernelspec": {
   "display_name": "Python 3",
   "language": "python",
   "name": "python3"
  },
  "language_info": {
   "codemirror_mode": {
    "name": "ipython",
    "version": 3
   },
   "file_extension": ".py",
   "mimetype": "text/x-python",
   "name": "python",
   "nbconvert_exporter": "python",
   "pygments_lexer": "ipython3",
   "version": "3.7.2"
  }
 },
 "nbformat": 4,
 "nbformat_minor": 2
}
